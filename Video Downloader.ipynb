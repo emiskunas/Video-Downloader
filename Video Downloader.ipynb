{
 "cells": [
  {
   "attachments": {},
   "cell_type": "markdown",
   "metadata": {},
   "source": [
    "# PyTube Video Downloader Using TKinter"
   ]
  },
  {
   "attachments": {},
   "cell_type": "markdown",
   "metadata": {},
   "source": [
    "Import libraries"
   ]
  },
  {
   "cell_type": "code",
   "execution_count": 9,
   "metadata": {},
   "outputs": [],
   "source": [
    "import tkinter as tk"
   ]
  },
  {
   "attachments": {},
   "cell_type": "markdown",
   "metadata": {},
   "source": [
    "Creating and setting window properties"
   ]
  },
  {
   "cell_type": "code",
   "execution_count": 10,
   "metadata": {},
   "outputs": [],
   "source": [
    "# create window variable\n",
    "root = tk.Tk()\n",
    "\n",
    "# set window width to 800 pixels, height to 500 pixels\n",
    "root.geometry(\"800x800\")\n",
    "\n",
    "# set window title\n",
    "root.title(\"PyTube Video Downloader\")\n",
    "\n",
    "# label = display box where you can place text or images. 1st arg is the parent window, 2nd 3rd nth are optional args\n",
    "label = tk.Label(root, text=\"Hello World\", font=('Arial', 18))\n",
    "label.pack(padx=20, pady=20)\n",
    "\n",
    "# textbox\n",
    "textbox = tk.Text(root, height=1, font=(\"Arial\", 16))\n",
    "textbox.pack()\n",
    "\n",
    "# button\n",
    "button = tk.Button(root, text=\"I'm a new button\", font=(\"Arial\", 20))\n",
    "button.pack()\n",
    "\n",
    "\n",
    "\n",
    "root.mainloop()\n"
   ]
  }
 ],
 "metadata": {
  "kernelspec": {
   "display_name": "Python 3",
   "language": "python",
   "name": "python3"
  },
  "language_info": {
   "codemirror_mode": {
    "name": "ipython",
    "version": 3
   },
   "file_extension": ".py",
   "mimetype": "text/x-python",
   "name": "python",
   "nbconvert_exporter": "python",
   "pygments_lexer": "ipython3",
   "version": "3.8.2"
  },
  "orig_nbformat": 4
 },
 "nbformat": 4,
 "nbformat_minor": 2
}
